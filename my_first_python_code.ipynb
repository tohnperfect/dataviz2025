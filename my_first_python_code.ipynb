{
  "nbformat": 4,
  "nbformat_minor": 0,
  "metadata": {
    "colab": {
      "provenance": [],
      "authorship_tag": "ABX9TyPk1qgajRDMpZwWuU7l/XkQ",
      "include_colab_link": true
    },
    "kernelspec": {
      "name": "python3",
      "display_name": "Python 3"
    },
    "language_info": {
      "name": "python"
    }
  },
  "cells": [
    {
      "cell_type": "markdown",
      "metadata": {
        "id": "view-in-github",
        "colab_type": "text"
      },
      "source": [
        "<a href=\"https://colab.research.google.com/github/tohnperfect/dataviz2025/blob/main/my_first_python_code.ipynb\" target=\"_parent\"><img src=\"https://colab.research.google.com/assets/colab-badge.svg\" alt=\"Open In Colab\"/></a>"
      ]
    },
    {
      "cell_type": "markdown",
      "source": [
        "Here we can write using **Markdown**\n",
        "# intro"
      ],
      "metadata": {
        "id": "pnkQ1adhHOVN"
      }
    },
    {
      "cell_type": "markdown",
      "source": [
        "##name"
      ],
      "metadata": {
        "id": "cRP86HfHIQHK"
      }
    },
    {
      "cell_type": "code",
      "source": [
        "print(\"Thanapong\")"
      ],
      "metadata": {
        "colab": {
          "base_uri": "https://localhost:8080/"
        },
        "id": "v8irpfcgHTAo",
        "outputId": "601f9644-7384-4268-87fd-d6283db411d4"
      },
      "execution_count": 1,
      "outputs": [
        {
          "output_type": "stream",
          "name": "stdout",
          "text": [
            "Thanapong\n"
          ]
        }
      ]
    },
    {
      "cell_type": "markdown",
      "source": [
        "## surname"
      ],
      "metadata": {
        "id": "hN1Ex7gBIHjp"
      }
    },
    {
      "cell_type": "code",
      "execution_count": 3,
      "metadata": {
        "colab": {
          "base_uri": "https://localhost:8080/"
        },
        "id": "SX_y76xWGIa4",
        "outputId": "72b6fe8d-5755-4534-d0ec-8eb46bec78cd"
      },
      "outputs": [
        {
          "output_type": "stream",
          "name": "stdout",
          "text": [
            "Intharah\n"
          ]
        }
      ],
      "source": [
        "print('Intharah')"
      ]
    },
    {
      "cell_type": "code",
      "source": [],
      "metadata": {
        "id": "KZqV35HYI7CB"
      },
      "execution_count": null,
      "outputs": []
    }
  ]
}